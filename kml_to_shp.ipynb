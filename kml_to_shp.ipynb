{
 "cells": [
  {
   "cell_type": "code",
   "execution_count": null,
   "id": "ae53b8c9",
   "metadata": {},
   "outputs": [],
   "source": [
    "import os\n",
    "import subprocess\n",
    "\n",
    "# Path to the directory containing KML files\n",
    "kml_dir = \"C:/Users/user/Desktop/Kml_file\"\n",
    "\n",
    "# Path to the directory where the shapefiles will be saved\n",
    "shp_dir = \"C:/Users/user/Desktop/Kml_file\"\n",
    "\n",
    "# Loop through all KML files in the directory\n",
    "for kml_file in os.listdir(kml_dir):\n",
    "    if kml_file.endswith(\".kml\"):\n",
    "        # Generate the output shapefile name\n",
    "        shp_file = kml_file.replace(\".kml\", \".shp\")\n",
    "        # Use ogr2ogr command to convert KML to shapefile\n",
    "        subprocess.call([\"ogr2ogr\", \"-f\", \"ESRI Shapefile\", os.path.join(shp_dir, shp_file), os.path.join(kml_dir, kml_file)])"
   ]
  }
 ],
 "metadata": {
  "kernelspec": {
   "display_name": "Python 3 (ipykernel)",
   "language": "python",
   "name": "python3"
  },
  "language_info": {
   "codemirror_mode": {
    "name": "ipython",
    "version": 3
   },
   "file_extension": ".py",
   "mimetype": "text/x-python",
   "name": "python",
   "nbconvert_exporter": "python",
   "pygments_lexer": "ipython3",
   "version": "3.11.0"
  }
 },
 "nbformat": 4,
 "nbformat_minor": 5
}
